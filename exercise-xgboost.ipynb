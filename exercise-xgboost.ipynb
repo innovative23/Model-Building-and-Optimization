{
 "cells": [
  {
   "cell_type": "markdown",
   "id": "0162e26c",
   "metadata": {
    "papermill": {
     "duration": 0.005218,
     "end_time": "2025-03-14T20:31:17.446111",
     "exception": false,
     "start_time": "2025-03-14T20:31:17.440893",
     "status": "completed"
    },
    "tags": []
   },
   "source": [
    "**This notebook is an exercise in the [Intermediate Machine Learning](https://www.kaggle.com/learn/intermediate-machine-learning) course.  You can reference the tutorial at [this link](https://www.kaggle.com/alexisbcook/xgboost).**\n",
    "\n",
    "---\n"
   ]
  },
  {
   "cell_type": "markdown",
   "id": "b944e9d9",
   "metadata": {
    "papermill": {
     "duration": 0.004037,
     "end_time": "2025-03-14T20:31:17.454857",
     "exception": false,
     "start_time": "2025-03-14T20:31:17.450820",
     "status": "completed"
    },
    "tags": []
   },
   "source": [
    "In this exercise, you will use your new knowledge to train a model with **gradient boosting**.\n",
    "\n",
    "# Setup\n",
    "\n",
    "The questions below will give you feedback on your work. Run the following cell to set up the feedback system."
   ]
  },
  {
   "cell_type": "code",
   "execution_count": 1,
   "id": "b13d83a1",
   "metadata": {
    "execution": {
     "iopub.execute_input": "2025-03-14T20:31:17.464955Z",
     "iopub.status.busy": "2025-03-14T20:31:17.464551Z",
     "iopub.status.idle": "2025-03-14T20:31:21.981357Z",
     "shell.execute_reply": "2025-03-14T20:31:21.979591Z"
    },
    "papermill": {
     "duration": 4.525864,
     "end_time": "2025-03-14T20:31:21.985119",
     "exception": false,
     "start_time": "2025-03-14T20:31:17.459255",
     "status": "completed"
    },
    "tags": []
   },
   "outputs": [
    {
     "name": "stdout",
     "output_type": "stream",
     "text": [
      "Setup Complete\n"
     ]
    }
   ],
   "source": [
    "# Set up code checking\n",
    "import os\n",
    "if not os.path.exists(\"../input/train.csv\"):\n",
    "    os.symlink(\"../input/home-data-for-ml-course/train.csv\", \"../input/train.csv\")  \n",
    "    os.symlink(\"../input/home-data-for-ml-course/test.csv\", \"../input/test.csv\") \n",
    "from learntools.core import binder\n",
    "binder.bind(globals())\n",
    "from learntools.ml_intermediate.ex6 import *\n",
    "print(\"Setup Complete\")"
   ]
  },
  {
   "cell_type": "markdown",
   "id": "150bd8c7",
   "metadata": {
    "papermill": {
     "duration": 0.004654,
     "end_time": "2025-03-14T20:31:21.994870",
     "exception": false,
     "start_time": "2025-03-14T20:31:21.990216",
     "status": "completed"
    },
    "tags": []
   },
   "source": [
    "You will work with the [Housing Prices Competition for Kaggle Learn Users](https://www.kaggle.com/c/home-data-for-ml-course) dataset from the previous exercise. \n",
    "\n",
    "![Ames Housing dataset image](https://i.imgur.com/lTJVG4e.png)\n",
    "\n",
    "Run the next code cell without changes to load the training and validation sets in `X_train`, `X_valid`, `y_train`, and `y_valid`.  The test set is loaded in `X_test`."
   ]
  },
  {
   "cell_type": "code",
   "execution_count": 2,
   "id": "186342bf",
   "metadata": {
    "execution": {
     "iopub.execute_input": "2025-03-14T20:31:22.007596Z",
     "iopub.status.busy": "2025-03-14T20:31:22.007119Z",
     "iopub.status.idle": "2025-03-14T20:31:22.159036Z",
     "shell.execute_reply": "2025-03-14T20:31:22.157947Z"
    },
    "papermill": {
     "duration": 0.161688,
     "end_time": "2025-03-14T20:31:22.161137",
     "exception": false,
     "start_time": "2025-03-14T20:31:21.999449",
     "status": "completed"
    },
    "tags": []
   },
   "outputs": [],
   "source": [
    "import pandas as pd\n",
    "from sklearn.model_selection import train_test_split\n",
    "\n",
    "# Read the data\n",
    "X = pd.read_csv('../input/train.csv', index_col='Id')\n",
    "X_test_full = pd.read_csv('../input/test.csv', index_col='Id')\n",
    "\n",
    "# Remove rows with missing target, separate target from predictors\n",
    "X.dropna(axis=0, subset=['SalePrice'], inplace=True)\n",
    "y = X.SalePrice              \n",
    "X.drop(['SalePrice'], axis=1, inplace=True)\n",
    "\n",
    "# Break off validation set from training data\n",
    "X_train_full, X_valid_full, y_train, y_valid = train_test_split(X, y, train_size=0.8, test_size=0.2,\n",
    "                                                                random_state=0)\n",
    "\n",
    "# \"Cardinality\" means the number of unique values in a column\n",
    "# Select categorical columns with relatively low cardinality (convenient but arbitrary)\n",
    "low_cardinality_cols = [cname for cname in X_train_full.columns if X_train_full[cname].nunique() < 10 and \n",
    "                        X_train_full[cname].dtype == \"object\"]\n",
    "\n",
    "# Select numeric columns\n",
    "numeric_cols = [cname for cname in X_train_full.columns if X_train_full[cname].dtype in ['int64', 'float64']]\n",
    "\n",
    "# Keep selected columns only\n",
    "my_cols = low_cardinality_cols + numeric_cols\n",
    "X_train = X_train_full[my_cols].copy()\n",
    "X_valid = X_valid_full[my_cols].copy()\n",
    "X_test = X_test_full[my_cols].copy()\n",
    "\n",
    "# One-hot encode the data (to shorten the code, we use pandas)\n",
    "X_train = pd.get_dummies(X_train)\n",
    "X_valid = pd.get_dummies(X_valid)\n",
    "X_test = pd.get_dummies(X_test)\n",
    "X_train, X_valid = X_train.align(X_valid, join='left', axis=1)\n",
    "X_train, X_test = X_train.align(X_test, join='left', axis=1)"
   ]
  },
  {
   "cell_type": "markdown",
   "id": "1e691cec",
   "metadata": {
    "papermill": {
     "duration": 0.004173,
     "end_time": "2025-03-14T20:31:22.170132",
     "exception": false,
     "start_time": "2025-03-14T20:31:22.165959",
     "status": "completed"
    },
    "tags": []
   },
   "source": [
    "# Step 1: Build model\n",
    "\n",
    "### Part A\n",
    "\n",
    "In this step, you'll build and train your first model with gradient boosting.\n",
    "\n",
    "- Begin by setting `my_model_1` to an XGBoost model.  Use the [XGBRegressor](https://xgboost.readthedocs.io/en/latest/python/python_api.html#xgboost.XGBRegressor) class, and set the random seed to 0 (`random_state=0`).  **Leave all other parameters as default.**\n",
    "- Then, fit the model to the training data in `X_train` and `y_train`."
   ]
  },
  {
   "cell_type": "code",
   "execution_count": 3,
   "id": "23b6f8e6",
   "metadata": {
    "execution": {
     "iopub.execute_input": "2025-03-14T20:31:22.180511Z",
     "iopub.status.busy": "2025-03-14T20:31:22.180111Z",
     "iopub.status.idle": "2025-03-14T20:31:22.687030Z",
     "shell.execute_reply": "2025-03-14T20:31:22.683657Z"
    },
    "papermill": {
     "duration": 0.515087,
     "end_time": "2025-03-14T20:31:22.689756",
     "exception": false,
     "start_time": "2025-03-14T20:31:22.174669",
     "status": "completed"
    },
    "tags": []
   },
   "outputs": [
    {
     "data": {
      "application/javascript": [
       "parent.postMessage({\"jupyterEvent\": \"custom.exercise_interaction\", \"data\": {\"outcomeType\": 2, \"failureMessage\": \"Please instantiate the XGBoost model with default parameters, and set the random seed to 0 (e.g., `my_model_1 = XGBRegressor(random_state=0)`).\", \"interactionType\": 1, \"questionType\": 2, \"questionId\": \"1.1_Model1A\", \"learnToolsVersion\": \"0.3.4\", \"valueTowardsCompletion\": 0.0, \"exceptionClass\": \"\", \"trace\": \"\"}}, \"*\")"
      ],
      "text/plain": [
       "<IPython.core.display.Javascript object>"
      ]
     },
     "metadata": {},
     "output_type": "display_data"
    },
    {
     "data": {
      "text/markdown": [
       "<span style=\"color:#cc3333\">Incorrect:</span> Please instantiate the XGBoost model with default parameters, and set the random seed to 0 (e.g., `my_model_1 = XGBRegressor(random_state=0)`)."
      ],
      "text/plain": [
       "Incorrect: Please instantiate the XGBoost model with default parameters, and set the random seed to 0 (e.g., `my_model_1 = XGBRegressor(random_state=0)`)."
      ]
     },
     "metadata": {},
     "output_type": "display_data"
    }
   ],
   "source": [
    "from xgboost import XGBRegressor\n",
    "\n",
    "# Define the model\n",
    "my_model_1 = XGBRegressor()\n",
    "\n",
    "# Fit the model\n",
    "my_model_1.fit(X_train,y_train)\n",
    "# Check your answer\n",
    "step_1.a.check()"
   ]
  },
  {
   "cell_type": "code",
   "execution_count": 4,
   "id": "df445cb3",
   "metadata": {
    "execution": {
     "iopub.execute_input": "2025-03-14T20:31:22.702083Z",
     "iopub.status.busy": "2025-03-14T20:31:22.701702Z",
     "iopub.status.idle": "2025-03-14T20:31:22.706169Z",
     "shell.execute_reply": "2025-03-14T20:31:22.704995Z"
    },
    "papermill": {
     "duration": 0.012088,
     "end_time": "2025-03-14T20:31:22.708061",
     "exception": false,
     "start_time": "2025-03-14T20:31:22.695973",
     "status": "completed"
    },
    "tags": []
   },
   "outputs": [],
   "source": [
    "# Lines below will give you a hint or solution code\n",
    "#step_1.a.hint()\n",
    "#step_1.a.solution()"
   ]
  },
  {
   "cell_type": "markdown",
   "id": "3ad10969",
   "metadata": {
    "papermill": {
     "duration": 0.004502,
     "end_time": "2025-03-14T20:31:22.717715",
     "exception": false,
     "start_time": "2025-03-14T20:31:22.713213",
     "status": "completed"
    },
    "tags": []
   },
   "source": [
    "### Part B\n",
    "\n",
    "Set `predictions_1` to the model's predictions for the validation data.  Recall that the validation features are stored in `X_valid`."
   ]
  },
  {
   "cell_type": "code",
   "execution_count": 5,
   "id": "cbe21347",
   "metadata": {
    "execution": {
     "iopub.execute_input": "2025-03-14T20:31:22.728411Z",
     "iopub.status.busy": "2025-03-14T20:31:22.728047Z",
     "iopub.status.idle": "2025-03-14T20:31:22.764290Z",
     "shell.execute_reply": "2025-03-14T20:31:22.763510Z"
    },
    "papermill": {
     "duration": 0.044369,
     "end_time": "2025-03-14T20:31:22.766854",
     "exception": false,
     "start_time": "2025-03-14T20:31:22.722485",
     "status": "completed"
    },
    "tags": []
   },
   "outputs": [
    {
     "data": {
      "application/javascript": [
       "parent.postMessage({\"jupyterEvent\": \"custom.exercise_interaction\", \"data\": {\"outcomeType\": 1, \"valueTowardsCompletion\": 0.5, \"interactionType\": 1, \"questionType\": 2, \"questionId\": \"1.2_Model1B\", \"learnToolsVersion\": \"0.3.4\", \"failureMessage\": \"\", \"exceptionClass\": \"\", \"trace\": \"\"}}, \"*\")"
      ],
      "text/plain": [
       "<IPython.core.display.Javascript object>"
      ]
     },
     "metadata": {},
     "output_type": "display_data"
    },
    {
     "data": {
      "text/markdown": [
       "<span style=\"color:#33cc33\">Correct</span>"
      ],
      "text/plain": [
       "Correct"
      ]
     },
     "metadata": {},
     "output_type": "display_data"
    }
   ],
   "source": [
    "from sklearn.metrics import mean_absolute_error\n",
    "\n",
    "# Get predictions\n",
    "predictions_1 = my_model_1.predict(X_valid)\n",
    "\n",
    "# Check your answer\n",
    "step_1.b.check()"
   ]
  },
  {
   "cell_type": "code",
   "execution_count": 6,
   "id": "2075b2e4",
   "metadata": {
    "execution": {
     "iopub.execute_input": "2025-03-14T20:31:22.779649Z",
     "iopub.status.busy": "2025-03-14T20:31:22.779220Z",
     "iopub.status.idle": "2025-03-14T20:31:22.783178Z",
     "shell.execute_reply": "2025-03-14T20:31:22.782080Z"
    },
    "papermill": {
     "duration": 0.011799,
     "end_time": "2025-03-14T20:31:22.784971",
     "exception": false,
     "start_time": "2025-03-14T20:31:22.773172",
     "status": "completed"
    },
    "tags": []
   },
   "outputs": [],
   "source": [
    "# Lines below will give you a hint or solution code\n",
    "#step_1.b.hint()\n",
    "#step_1.b.solution()"
   ]
  },
  {
   "cell_type": "markdown",
   "id": "a8923542",
   "metadata": {
    "papermill": {
     "duration": 0.004723,
     "end_time": "2025-03-14T20:31:22.794839",
     "exception": false,
     "start_time": "2025-03-14T20:31:22.790116",
     "status": "completed"
    },
    "tags": []
   },
   "source": [
    "### Part C\n",
    "\n",
    "Finally, use the `mean_absolute_error()` function to calculate the mean absolute error (MAE) corresponding to the predictions for the validation set.  Recall that the labels for the validation data are stored in `y_valid`."
   ]
  },
  {
   "cell_type": "code",
   "execution_count": 7,
   "id": "b7d5ee21",
   "metadata": {
    "execution": {
     "iopub.execute_input": "2025-03-14T20:31:22.806239Z",
     "iopub.status.busy": "2025-03-14T20:31:22.805895Z",
     "iopub.status.idle": "2025-03-14T20:31:22.816475Z",
     "shell.execute_reply": "2025-03-14T20:31:22.815417Z"
    },
    "papermill": {
     "duration": 0.018287,
     "end_time": "2025-03-14T20:31:22.818187",
     "exception": false,
     "start_time": "2025-03-14T20:31:22.799900",
     "status": "completed"
    },
    "tags": []
   },
   "outputs": [
    {
     "name": "stdout",
     "output_type": "stream",
     "text": [
      "Mean Absolute Error: 18161.82412510702\n"
     ]
    },
    {
     "data": {
      "application/javascript": [
       "parent.postMessage({\"jupyterEvent\": \"custom.exercise_interaction\", \"data\": {\"outcomeType\": 1, \"valueTowardsCompletion\": 0.5, \"interactionType\": 1, \"questionType\": 2, \"questionId\": \"1.3_Model1C\", \"learnToolsVersion\": \"0.3.4\", \"failureMessage\": \"\", \"exceptionClass\": \"\", \"trace\": \"\"}}, \"*\")"
      ],
      "text/plain": [
       "<IPython.core.display.Javascript object>"
      ]
     },
     "metadata": {},
     "output_type": "display_data"
    },
    {
     "data": {
      "text/markdown": [
       "<span style=\"color:#33cc33\">Correct</span>"
      ],
      "text/plain": [
       "Correct"
      ]
     },
     "metadata": {},
     "output_type": "display_data"
    }
   ],
   "source": [
    "from sklearn.metrics import mean_absolute_error\n",
    "# Calculate MAE\n",
    "mae_1 = mean_absolute_error(y_valid,predictions_1)\n",
    "\n",
    "# Uncomment to print MAE\n",
    "print(\"Mean Absolute Error:\" , mae_1)\n",
    "\n",
    "# Check your answer\n",
    "step_1.c.check()"
   ]
  },
  {
   "cell_type": "code",
   "execution_count": 8,
   "id": "2122865e",
   "metadata": {
    "execution": {
     "iopub.execute_input": "2025-03-14T20:31:22.830192Z",
     "iopub.status.busy": "2025-03-14T20:31:22.829838Z",
     "iopub.status.idle": "2025-03-14T20:31:22.833843Z",
     "shell.execute_reply": "2025-03-14T20:31:22.832854Z"
    },
    "papermill": {
     "duration": 0.01192,
     "end_time": "2025-03-14T20:31:22.835468",
     "exception": false,
     "start_time": "2025-03-14T20:31:22.823548",
     "status": "completed"
    },
    "tags": []
   },
   "outputs": [],
   "source": [
    "# Lines below will give you a hint or solution code\n",
    "#step_1.c.hint()\n",
    "#step_1.c.solution()"
   ]
  },
  {
   "cell_type": "markdown",
   "id": "2215378d",
   "metadata": {
    "papermill": {
     "duration": 0.00503,
     "end_time": "2025-03-14T20:31:22.845989",
     "exception": false,
     "start_time": "2025-03-14T20:31:22.840959",
     "status": "completed"
    },
    "tags": []
   },
   "source": [
    "# Step 2: Improve the model\n",
    "\n",
    "Now that you've trained a default model as baseline, it's time to tinker with the parameters, to see if you can get better performance!\n",
    "- Begin by setting `my_model_2` to an XGBoost model, using the [XGBRegressor](https://xgboost.readthedocs.io/en/latest/python/python_api.html#xgboost.XGBRegressor) class.  Use what you learned in the previous tutorial to figure out how to change the default parameters (like `n_estimators` and `learning_rate`) to get better results.\n",
    "- Then, fit the model to the training data in `X_train` and `y_train`.\n",
    "- Set `predictions_2` to the model's predictions for the validation data.  Recall that the validation features are stored in `X_valid`.\n",
    "- Finally, use the `mean_absolute_error()` function to calculate the mean absolute error (MAE) corresponding to the predictions on the validation set.  Recall that the labels for the validation data are stored in `y_valid`.\n",
    "\n",
    "In order for this step to be marked correct, your model in `my_model_2` must attain lower MAE than the model in `my_model_1`. "
   ]
  },
  {
   "cell_type": "code",
   "execution_count": 9,
   "id": "cfed2b06",
   "metadata": {
    "execution": {
     "iopub.execute_input": "2025-03-14T20:31:22.857901Z",
     "iopub.status.busy": "2025-03-14T20:31:22.857526Z",
     "iopub.status.idle": "2025-03-14T20:31:24.468814Z",
     "shell.execute_reply": "2025-03-14T20:31:24.466032Z"
    },
    "papermill": {
     "duration": 1.619226,
     "end_time": "2025-03-14T20:31:24.470564",
     "exception": false,
     "start_time": "2025-03-14T20:31:22.851338",
     "status": "completed"
    },
    "tags": []
   },
   "outputs": [
    {
     "name": "stdout",
     "output_type": "stream",
     "text": [
      "[0]\tvalidation_0-rmse:79855.66365\n",
      "[1]\tvalidation_0-rmse:77118.03247\n",
      "[2]\tvalidation_0-rmse:74307.10795\n",
      "[3]\tvalidation_0-rmse:71987.02234\n",
      "[4]\tvalidation_0-rmse:69740.94613\n",
      "[5]\tvalidation_0-rmse:67732.95639\n",
      "[6]\tvalidation_0-rmse:65811.55962\n",
      "[7]\tvalidation_0-rmse:63754.89339\n",
      "[8]\tvalidation_0-rmse:62058.91897\n",
      "[9]\tvalidation_0-rmse:60146.30098\n",
      "[10]\tvalidation_0-rmse:58678.62297\n",
      "[11]\tvalidation_0-rmse:57313.38427\n",
      "[12]\tvalidation_0-rmse:55777.85477\n",
      "[13]\tvalidation_0-rmse:54157.36641\n",
      "[14]\tvalidation_0-rmse:52715.74489\n",
      "[15]\tvalidation_0-rmse:51358.72314\n",
      "[16]\tvalidation_0-rmse:50087.19343\n",
      "[17]\tvalidation_0-rmse:49185.84935\n",
      "[18]\tvalidation_0-rmse:48200.97131\n",
      "[19]\tvalidation_0-rmse:47387.06595\n"
     ]
    },
    {
     "name": "stderr",
     "output_type": "stream",
     "text": [
      "/usr/local/lib/python3.10/dist-packages/xgboost/sklearn.py:889: UserWarning: `early_stopping_rounds` in `fit` method is deprecated for better compatibility with scikit-learn, use `early_stopping_rounds` in constructor or`set_params` instead.\n",
      "  warnings.warn(\n"
     ]
    },
    {
     "name": "stdout",
     "output_type": "stream",
     "text": [
      "[20]\tvalidation_0-rmse:46481.21332\n",
      "[21]\tvalidation_0-rmse:45577.09956\n",
      "[22]\tvalidation_0-rmse:44943.96564\n",
      "[23]\tvalidation_0-rmse:44376.68854\n",
      "[24]\tvalidation_0-rmse:43672.76214\n",
      "[25]\tvalidation_0-rmse:43153.60898\n",
      "[26]\tvalidation_0-rmse:42570.71098\n",
      "[27]\tvalidation_0-rmse:42153.08095\n",
      "[28]\tvalidation_0-rmse:41577.88892\n",
      "[29]\tvalidation_0-rmse:41130.55734\n",
      "[30]\tvalidation_0-rmse:40723.93472\n",
      "[31]\tvalidation_0-rmse:40423.35644\n",
      "[32]\tvalidation_0-rmse:39997.87405\n",
      "[33]\tvalidation_0-rmse:39679.58170\n",
      "[34]\tvalidation_0-rmse:39386.44732\n",
      "[35]\tvalidation_0-rmse:39088.10636\n",
      "[36]\tvalidation_0-rmse:38844.16302\n",
      "[37]\tvalidation_0-rmse:38616.57949\n",
      "[38]\tvalidation_0-rmse:38352.68169\n",
      "[39]\tvalidation_0-rmse:38169.45291\n",
      "[40]\tvalidation_0-rmse:38021.70800\n",
      "[41]\tvalidation_0-rmse:37889.88525\n",
      "[42]\tvalidation_0-rmse:37804.08178\n",
      "[43]\tvalidation_0-rmse:37557.23245\n",
      "[44]\tvalidation_0-rmse:37321.92614\n",
      "[45]\tvalidation_0-rmse:37177.94645\n",
      "[46]\tvalidation_0-rmse:37027.76006\n",
      "[47]\tvalidation_0-rmse:36820.97690\n",
      "[48]\tvalidation_0-rmse:36685.01692\n",
      "[49]\tvalidation_0-rmse:36503.73601\n",
      "[50]\tvalidation_0-rmse:36339.57427\n",
      "[51]\tvalidation_0-rmse:36238.45482\n",
      "[52]\tvalidation_0-rmse:36137.54304\n",
      "[53]\tvalidation_0-rmse:36070.39476\n",
      "[54]\tvalidation_0-rmse:35988.68458\n",
      "[55]\tvalidation_0-rmse:35959.39267\n",
      "[56]\tvalidation_0-rmse:35819.35574\n",
      "[57]\tvalidation_0-rmse:35809.14329\n",
      "[58]\tvalidation_0-rmse:35665.89186\n",
      "[59]\tvalidation_0-rmse:35637.49998\n",
      "[60]\tvalidation_0-rmse:35607.96405\n",
      "[61]\tvalidation_0-rmse:35551.86827\n",
      "[62]\tvalidation_0-rmse:35535.52956\n",
      "[63]\tvalidation_0-rmse:35397.99389\n",
      "[64]\tvalidation_0-rmse:35404.64861\n",
      "[65]\tvalidation_0-rmse:35381.30447\n",
      "[66]\tvalidation_0-rmse:35347.12231\n",
      "[67]\tvalidation_0-rmse:35361.04619\n",
      "[68]\tvalidation_0-rmse:35233.13320\n",
      "[69]\tvalidation_0-rmse:35191.36901\n",
      "[70]\tvalidation_0-rmse:35177.69049\n",
      "[71]\tvalidation_0-rmse:35082.09956\n",
      "[72]\tvalidation_0-rmse:35074.23435\n",
      "[73]\tvalidation_0-rmse:35059.49657\n",
      "[74]\tvalidation_0-rmse:35040.66752\n",
      "[75]\tvalidation_0-rmse:35037.02028\n",
      "[76]\tvalidation_0-rmse:35044.89307\n",
      "[77]\tvalidation_0-rmse:34962.63226\n",
      "[78]\tvalidation_0-rmse:34902.49508\n",
      "[79]\tvalidation_0-rmse:34817.65454\n",
      "[80]\tvalidation_0-rmse:34754.14336\n",
      "[81]\tvalidation_0-rmse:34678.57549\n",
      "[82]\tvalidation_0-rmse:34606.97002\n",
      "[83]\tvalidation_0-rmse:34541.50702\n",
      "[84]\tvalidation_0-rmse:34473.15672\n",
      "[85]\tvalidation_0-rmse:34398.84072\n",
      "[86]\tvalidation_0-rmse:34346.84206\n",
      "[87]\tvalidation_0-rmse:34269.31440\n",
      "[88]\tvalidation_0-rmse:34210.30812\n",
      "[89]\tvalidation_0-rmse:34147.67036\n",
      "[90]\tvalidation_0-rmse:34081.07134\n",
      "[91]\tvalidation_0-rmse:34021.52402\n",
      "[92]\tvalidation_0-rmse:33950.18239\n",
      "[93]\tvalidation_0-rmse:33895.42206\n",
      "[94]\tvalidation_0-rmse:33851.28482\n",
      "[95]\tvalidation_0-rmse:33775.53852\n",
      "[96]\tvalidation_0-rmse:33723.40662\n",
      "[97]\tvalidation_0-rmse:33666.77265\n",
      "[98]\tvalidation_0-rmse:33607.32734\n",
      "[99]\tvalidation_0-rmse:33563.36069\n",
      "[100]\tvalidation_0-rmse:33517.49926\n",
      "[101]\tvalidation_0-rmse:33474.93151\n",
      "[102]\tvalidation_0-rmse:33439.13318\n",
      "[103]\tvalidation_0-rmse:33393.58678\n",
      "[104]\tvalidation_0-rmse:33364.30852\n",
      "[105]\tvalidation_0-rmse:33333.80552\n",
      "[106]\tvalidation_0-rmse:33289.96580\n",
      "[107]\tvalidation_0-rmse:33249.86531\n",
      "[108]\tvalidation_0-rmse:33222.27989\n",
      "[109]\tvalidation_0-rmse:33218.82655\n",
      "[110]\tvalidation_0-rmse:33178.10860\n",
      "[111]\tvalidation_0-rmse:33176.13402\n",
      "[112]\tvalidation_0-rmse:33182.02876\n",
      "[113]\tvalidation_0-rmse:33158.70109\n",
      "[114]\tvalidation_0-rmse:33170.94395\n",
      "[115]\tvalidation_0-rmse:33149.06810\n",
      "[116]\tvalidation_0-rmse:33139.64716\n",
      "[117]\tvalidation_0-rmse:33116.51494\n",
      "[118]\tvalidation_0-rmse:33084.21381\n",
      "[119]\tvalidation_0-rmse:33080.84475\n",
      "[120]\tvalidation_0-rmse:33073.77631\n",
      "[121]\tvalidation_0-rmse:33056.04938\n",
      "[122]\tvalidation_0-rmse:33034.13181\n",
      "[123]\tvalidation_0-rmse:33016.93205\n",
      "[124]\tvalidation_0-rmse:33006.14945\n",
      "[125]\tvalidation_0-rmse:33000.69971\n",
      "[126]\tvalidation_0-rmse:32979.03367\n",
      "[127]\tvalidation_0-rmse:32964.04309\n",
      "[128]\tvalidation_0-rmse:32961.28590\n",
      "[129]\tvalidation_0-rmse:32946.90563\n",
      "[130]\tvalidation_0-rmse:32928.43314\n",
      "[131]\tvalidation_0-rmse:32913.35686\n",
      "[132]\tvalidation_0-rmse:32905.32563\n",
      "[133]\tvalidation_0-rmse:32892.60680\n",
      "[134]\tvalidation_0-rmse:32885.36149\n",
      "[135]\tvalidation_0-rmse:32882.29244\n",
      "[136]\tvalidation_0-rmse:32865.35193\n",
      "[137]\tvalidation_0-rmse:32856.01280\n",
      "[138]\tvalidation_0-rmse:32842.18351\n",
      "[139]\tvalidation_0-rmse:32836.21012\n",
      "[140]\tvalidation_0-rmse:32827.53358\n",
      "[141]\tvalidation_0-rmse:32818.70496\n",
      "[142]\tvalidation_0-rmse:32817.69102\n",
      "[143]\tvalidation_0-rmse:32814.03616\n",
      "[144]\tvalidation_0-rmse:32821.69888\n",
      "[145]\tvalidation_0-rmse:32827.97899\n",
      "[146]\tvalidation_0-rmse:32827.60966\n",
      "[147]\tvalidation_0-rmse:32816.18334\n",
      "[148]\tvalidation_0-rmse:32800.97378\n",
      "[149]\tvalidation_0-rmse:32806.04753\n",
      "[150]\tvalidation_0-rmse:32790.44319\n",
      "[151]\tvalidation_0-rmse:32805.15154\n",
      "[152]\tvalidation_0-rmse:32801.03379\n",
      "[153]\tvalidation_0-rmse:32799.97922\n",
      "[154]\tvalidation_0-rmse:32792.33349\n",
      "[155]\tvalidation_0-rmse:32788.29694\n",
      "[156]\tvalidation_0-rmse:32780.50812\n",
      "[157]\tvalidation_0-rmse:32772.60044\n",
      "[158]\tvalidation_0-rmse:32773.13256\n",
      "[159]\tvalidation_0-rmse:32770.60781\n",
      "[160]\tvalidation_0-rmse:32763.78788\n",
      "[161]\tvalidation_0-rmse:32757.71915\n",
      "[162]\tvalidation_0-rmse:32759.53216\n",
      "[163]\tvalidation_0-rmse:32752.72717\n",
      "[164]\tvalidation_0-rmse:32749.01395\n",
      "[165]\tvalidation_0-rmse:32748.96109\n",
      "[166]\tvalidation_0-rmse:32746.21059\n",
      "[167]\tvalidation_0-rmse:32738.22561\n",
      "[168]\tvalidation_0-rmse:32736.12431\n",
      "[169]\tvalidation_0-rmse:32736.01874\n",
      "[170]\tvalidation_0-rmse:32734.26104\n",
      "[171]\tvalidation_0-rmse:32747.04373\n",
      "[172]\tvalidation_0-rmse:32745.99185\n",
      "[173]\tvalidation_0-rmse:32742.06921\n",
      "[174]\tvalidation_0-rmse:32742.63009\n",
      "[175]\tvalidation_0-rmse:32736.55850\n",
      "Mean Absolute Error: 17032.769063035103\n"
     ]
    },
    {
     "data": {
      "application/javascript": [
       "parent.postMessage({\"jupyterEvent\": \"custom.exercise_interaction\", \"data\": {\"outcomeType\": 1, \"valueTowardsCompletion\": 0.5, \"interactionType\": 1, \"questionType\": 2, \"questionId\": \"2_Model2\", \"learnToolsVersion\": \"0.3.4\", \"failureMessage\": \"\", \"exceptionClass\": \"\", \"trace\": \"\"}}, \"*\")"
      ],
      "text/plain": [
       "<IPython.core.display.Javascript object>"
      ]
     },
     "metadata": {},
     "output_type": "display_data"
    },
    {
     "data": {
      "text/markdown": [
       "<span style=\"color:#33cc33\">Correct</span>"
      ],
      "text/plain": [
       "Correct"
      ]
     },
     "metadata": {},
     "output_type": "display_data"
    }
   ],
   "source": [
    "# Define the model\n",
    "my_model_2 = XGBRegressor(n_estimators = 400, learning_rate = 0.05, random_state = 40)\n",
    "                         \n",
    "                                         \n",
    "# Fit the model\n",
    "my_model_2.fit(X_train,y_train,\n",
    "              early_stopping_rounds = 5,\n",
    "              eval_set=[(X_valid,y_valid)],\n",
    "              verbose = True)\n",
    "\n",
    "# Get predictions\n",
    "predictions_2 = my_model_2.predict(X_valid)\n",
    "\n",
    "# Calculate MAE\n",
    "mae_2 = mean_absolute_error(y_valid,predictions_2)\n",
    "\n",
    "# Uncomment to print MAE\n",
    "print(\"Mean Absolute Error:\" , mae_2)\n",
    "\n",
    "# Check your answer\n",
    "step_2.check()"
   ]
  },
  {
   "cell_type": "code",
   "execution_count": 10,
   "id": "bf31d99a",
   "metadata": {
    "execution": {
     "iopub.execute_input": "2025-03-14T20:31:24.506582Z",
     "iopub.status.busy": "2025-03-14T20:31:24.506177Z",
     "iopub.status.idle": "2025-03-14T20:31:24.510539Z",
     "shell.execute_reply": "2025-03-14T20:31:24.509327Z"
    },
    "papermill": {
     "duration": 0.022983,
     "end_time": "2025-03-14T20:31:24.512239",
     "exception": false,
     "start_time": "2025-03-14T20:31:24.489256",
     "status": "completed"
    },
    "tags": []
   },
   "outputs": [],
   "source": [
    "# Lines below will give you a hint or solution code\n",
    "#step_2.hint()\n",
    "#step_2.solution()"
   ]
  },
  {
   "cell_type": "markdown",
   "id": "1ab5f956",
   "metadata": {
    "papermill": {
     "duration": 0.016,
     "end_time": "2025-03-14T20:31:24.544862",
     "exception": false,
     "start_time": "2025-03-14T20:31:24.528862",
     "status": "completed"
    },
    "tags": []
   },
   "source": [
    "# Step 3: Break the model\n",
    "\n",
    "In this step, you will create a model that performs worse than the original model in Step 1.  This will help you to develop your intuition for how to set parameters.  You might even find that you accidentally get better performance, which is ultimately a nice problem to have and a valuable learning experience!\n",
    "- Begin by setting `my_model_3` to an XGBoost model, using the [XGBRegressor](https://xgboost.readthedocs.io/en/latest/python/python_api.html#xgboost.XGBRegressor) class.  Use what you learned in the previous tutorial to figure out how to change the default parameters (like `n_estimators` and `learning_rate`) to design a model to get high MAE.\n",
    "- Then, fit the model to the training data in `X_train` and `y_train`.\n",
    "- Set `predictions_3` to the model's predictions for the validation data.  Recall that the validation features are stored in `X_valid`.\n",
    "- Finally, use the `mean_absolute_error()` function to calculate the mean absolute error (MAE) corresponding to the predictions on the validation set.  Recall that the labels for the validation data are stored in `y_valid`.\n",
    "\n",
    "In order for this step to be marked correct, your model in `my_model_3` must attain higher MAE than the model in `my_model_1`. "
   ]
  },
  {
   "cell_type": "code",
   "execution_count": 11,
   "id": "b9d2684b",
   "metadata": {
    "execution": {
     "iopub.execute_input": "2025-03-14T20:31:24.581028Z",
     "iopub.status.busy": "2025-03-14T20:31:24.580621Z",
     "iopub.status.idle": "2025-03-14T20:31:27.803033Z",
     "shell.execute_reply": "2025-03-14T20:31:27.802146Z"
    },
    "papermill": {
     "duration": 3.242247,
     "end_time": "2025-03-14T20:31:27.804995",
     "exception": false,
     "start_time": "2025-03-14T20:31:24.562748",
     "status": "completed"
    },
    "tags": []
   },
   "outputs": [
    {
     "name": "stderr",
     "output_type": "stream",
     "text": [
      "/usr/local/lib/python3.10/dist-packages/xgboost/sklearn.py:889: UserWarning: `early_stopping_rounds` in `fit` method is deprecated for better compatibility with scikit-learn, use `early_stopping_rounds` in constructor or`set_params` instead.\n",
      "  warnings.warn(\n"
     ]
    },
    {
     "name": "stdout",
     "output_type": "stream",
     "text": [
      "Mean Absolute Error: 38749.41154751712\n"
     ]
    },
    {
     "data": {
      "application/javascript": [
       "parent.postMessage({\"jupyterEvent\": \"custom.exercise_interaction\", \"data\": {\"outcomeType\": 1, \"valueTowardsCompletion\": 0.5, \"interactionType\": 1, \"questionType\": 2, \"questionId\": \"3_Model3\", \"learnToolsVersion\": \"0.3.4\", \"failureMessage\": \"\", \"exceptionClass\": \"\", \"trace\": \"\"}}, \"*\")"
      ],
      "text/plain": [
       "<IPython.core.display.Javascript object>"
      ]
     },
     "metadata": {},
     "output_type": "display_data"
    },
    {
     "data": {
      "text/markdown": [
       "<span style=\"color:#33cc33\">Correct</span>"
      ],
      "text/plain": [
       "Correct"
      ]
     },
     "metadata": {},
     "output_type": "display_data"
    }
   ],
   "source": [
    "# Define the model\n",
    "my_model_3 = XGBRegressor(n_estimators = 500, learning_rate = 0.001, random_state = 42)\n",
    "                         \n",
    "                                         \n",
    "# Fit the model\n",
    "my_model_3.fit(X_train,y_train,\n",
    "              early_stopping_rounds = 5,\n",
    "              eval_set=[(X_valid,y_valid)],\n",
    "              verbose = False)\n",
    "\n",
    "# Get predictions\n",
    "predictions_3 = my_model_3.predict(X_valid)\n",
    "\n",
    "# Calculate MAE\n",
    "mae_3 = mean_absolute_error(y_valid,predictions_3)\n",
    "\n",
    "# Uncomment to print MAE\n",
    "print(\"Mean Absolute Error:\" , mae_3)\n",
    "\n",
    "# Check your answer\n",
    "step_3.check()"
   ]
  },
  {
   "cell_type": "code",
   "execution_count": 12,
   "id": "152f272b",
   "metadata": {
    "execution": {
     "iopub.execute_input": "2025-03-14T20:31:27.841175Z",
     "iopub.status.busy": "2025-03-14T20:31:27.840803Z",
     "iopub.status.idle": "2025-03-14T20:31:27.845293Z",
     "shell.execute_reply": "2025-03-14T20:31:27.844112Z"
    },
    "papermill": {
     "duration": 0.024067,
     "end_time": "2025-03-14T20:31:27.846966",
     "exception": false,
     "start_time": "2025-03-14T20:31:27.822899",
     "status": "completed"
    },
    "tags": []
   },
   "outputs": [],
   "source": [
    "# Lines below will give you a hint or solution code\n",
    "#step_3.hint()\n",
    "#step_3.solution()"
   ]
  },
  {
   "cell_type": "markdown",
   "id": "8d72ceaf",
   "metadata": {
    "papermill": {
     "duration": 0.015586,
     "end_time": "2025-03-14T20:31:27.878688",
     "exception": false,
     "start_time": "2025-03-14T20:31:27.863102",
     "status": "completed"
    },
    "tags": []
   },
   "source": [
    "# Keep going\n",
    "\n",
    "Continue to learn about **[data leakage](https://www.kaggle.com/alexisbcook/data-leakage)**.  This is an important issue for a data scientist to understand, and it has the potential to ruin your models in subtle and dangerous ways!"
   ]
  },
  {
   "cell_type": "markdown",
   "id": "1539677a",
   "metadata": {
    "papermill": {
     "duration": 0.015529,
     "end_time": "2025-03-14T20:31:27.910113",
     "exception": false,
     "start_time": "2025-03-14T20:31:27.894584",
     "status": "completed"
    },
    "tags": []
   },
   "source": [
    "---\n",
    "\n",
    "\n",
    "\n",
    "\n",
    "*Have questions or comments? Visit the [course discussion forum](https://www.kaggle.com/learn/intermediate-machine-learning/discussion) to chat with other learners.*"
   ]
  }
 ],
 "metadata": {
  "kaggle": {
   "accelerator": "none",
   "dataSources": [
    {
     "databundleVersionId": 111096,
     "sourceId": 10211,
     "sourceType": "competition"
    }
   ],
   "isGpuEnabled": false,
   "isInternetEnabled": false,
   "language": "python",
   "sourceType": "notebook"
  },
  "kernelspec": {
   "display_name": "Python 3",
   "language": "python",
   "name": "python3"
  },
  "language_info": {
   "codemirror_mode": {
    "name": "ipython",
    "version": 3
   },
   "file_extension": ".py",
   "mimetype": "text/x-python",
   "name": "python",
   "nbconvert_exporter": "python",
   "pygments_lexer": "ipython3",
   "version": "3.10.12"
  },
  "papermill": {
   "default_parameters": {},
   "duration": 14.366822,
   "end_time": "2025-03-14T20:31:28.747700",
   "environment_variables": {},
   "exception": null,
   "input_path": "__notebook__.ipynb",
   "output_path": "__notebook__.ipynb",
   "parameters": {},
   "start_time": "2025-03-14T20:31:14.380878",
   "version": "2.6.0"
  }
 },
 "nbformat": 4,
 "nbformat_minor": 5
}
